{
  "nbformat": 4,
  "nbformat_minor": 0,
  "metadata": {
    "colab": {
      "name": "Memória - Sistemas de Computação.ipynb",
      "provenance": [],
      "collapsed_sections": [],
      "authorship_tag": "ABX9TyMBuXnHmH1ON07RNmxFqkpN",
      "include_colab_link": true
    },
    "kernelspec": {
      "name": "python3",
      "display_name": "Python 3"
    }
  },
  "cells": [
    {
      "cell_type": "markdown",
      "metadata": {
        "id": "view-in-github",
        "colab_type": "text"
      },
      "source": [
        "<a href=\"https://colab.research.google.com/github/EudeMonteiro/CBCC---2020/blob/main/Mem%C3%B3ria_Sistemas_de_Computa%C3%A7%C3%A3o.ipynb\" target=\"_parent\"><img src=\"https://colab.research.google.com/assets/colab-badge.svg\" alt=\"Open In Colab\"/></a>"
      ]
    },
    {
      "cell_type": "code",
      "metadata": {
        "id": "yi3dknV9ZAT9"
      },
      "source": [
        "bitList=[ '00000000','00000000','00000000','00000000',\r\n",
        "          '00000000','00000000','00000000','00000000',\r\n",
        "          '00000000','00000000','00000000','00000000',\r\n",
        "          '00000000','00000000','00000000','00000000',]\r\n",
        "\r\n",
        "while True:\r\n",
        "  a=input(\"Digite W para escrever, R para ler, L para listar toda a memória e qualquer tecla para parar: \")\r\n",
        "  if a==\"W\":\r\n",
        "    while True:\r\n",
        "      b=input('Digite o endereço de 4 bits: ')\r\n",
        "      if len(list(str(b)))!=4:\r\n",
        "        print('O seu endereço deve conter 4 bits obrigatoriamente, tente novamente')\r\n",
        "      else: \r\n",
        "        break\r\n",
        "    while True:\r\n",
        "      newBit=input(\"Digite o dado de 8 bits: \")\r\n",
        "      if len(newBit)!=8:\r\n",
        "        print('O seu dado deve conter 8 bits obrigatoriamente, tente novamente')\r\n",
        "      else:\r\n",
        "        break        \r\n",
        "    endr=(int(b,2))\r\n",
        "    bitList[endr]=newBit;print()\r\n",
        "    \r\n",
        "  elif a=='R':\r\n",
        "    while True:\r\n",
        "      k=(input('Digite o endereço de 4 bits: '))\r\n",
        "      if len(list(str(k)))!=4:\r\n",
        "        print('O seu endereço deve conter 4 bits obrigatoriamente, tente novamente')\r\n",
        "      else:\r\n",
        "        print('\\n',bitList[int(k,2)],'\\n',sep='');break\r\n",
        "  \r\n",
        "  elif a==\"L\":\r\n",
        "    print('\\n'+'Todos os estados:'+'\\n');print(*bitList,sep='\\n');print()\r\n",
        "\r\n",
        "  else:\r\n",
        "    print('Você saiu do programa.')\r\n",
        "    break"
      ],
      "execution_count": null,
      "outputs": []
    }
  ]
}