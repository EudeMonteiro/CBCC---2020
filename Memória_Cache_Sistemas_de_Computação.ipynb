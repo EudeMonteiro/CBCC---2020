{
  "nbformat": 4,
  "nbformat_minor": 0,
  "metadata": {
    "colab": {
      "name": "Memória Cache - Sistemas de Computação",
      "provenance": [],
      "authorship_tag": "ABX9TyMGOXqFvmA7yHkYeyN2NYr5",
      "include_colab_link": true
    },
    "kernelspec": {
      "name": "python3",
      "display_name": "Python 3"
    }
  },
  "cells": [
    {
      "cell_type": "markdown",
      "metadata": {
        "id": "view-in-github",
        "colab_type": "text"
      },
      "source": [
        "<a href=\"https://colab.research.google.com/github/EudeMonteiro/CBCC---2020/blob/main/Mem%C3%B3ria_Cache_Sistemas_de_Computa%C3%A7%C3%A3o.ipynb\" target=\"_parent\"><img src=\"https://colab.research.google.com/assets/colab-badge.svg\" alt=\"Open In Colab\"/></a>"
      ]
    },
    {
      "cell_type": "code",
      "metadata": {
        "colab": {
          "base_uri": "https://localhost:8080/"
        },
        "id": "QgsCgfDNgKpS",
        "outputId": "c4fec613-5b52-4684-d061-265726f56f3e"
      },
      "source": [
        "#Exemplo 5.2 - Método Direto\r\n",
        "\r\n",
        "import math\r\n",
        "print(\"Cálculo da quantidade de bits necessários \\\r\n",
        "para uma determinada memória cache:\",'\\n', \"\\nConsidere um sistema de \\\r\n",
        "computação com uma memória cache de 32KB de capacidade,\\nconstituída de \\\r\n",
        "linhas com 8 bytes de largura. A MP possui uma capacidade de 16MB.\")\r\n",
        "\r\n",
        "cap = 32*(2**10)\r\n",
        "lrg = 8\r\n",
        "lin = cap/lrg\r\n",
        "MP = 16*(2**20)\r\n",
        "\r\n",
        "T_dados=cap*8\r\n",
        "T_tag=lin*(math.log((MP/lrg)/lin,2))\r\n",
        "\r\n",
        "print('\\nT = T_dados + T_tag:\\nT:',int(T_dados+T_tag),'bits')"
      ],
      "execution_count": null,
      "outputs": [
        {
          "output_type": "stream",
          "text": [
            "Cálculo da quantidade de bits necessários para uma determinada memória cache: \n",
            " \n",
            "Considere um sistema de computação com uma memória cache de 32KB de capacidade,\n",
            "constituída de linhas com 8 bytes de largura. A MP possui uma capacidade de 16MB.\n",
            "\n",
            "T = T_dados + T_tag:\n",
            "T: 299008 bits\n"
          ],
          "name": "stdout"
        }
      ]
    },
    {
      "cell_type": "code",
      "metadata": {
        "colab": {
          "base_uri": "https://localhost:8080/"
        },
        "id": "2aSZQoQ2IXVV",
        "outputId": "ac6ed621-98ef-48a7-aed4-8266adc789fe"
      },
      "source": [
        "#Exemplo 5.3 - Método Direto\r\n",
        "\r\n",
        "print(\"Cálculo de formato de endereço para memórias cache com mapeamento \\\r\n",
        "direto\",'\\n', \"\\nConsidere uma MP com 64MB de capacidade associada a uma \\\r\n",
        "memória cache\\nque possui 2K linhas, cada uma com largura de 16 bytes. Determine \\\r\n",
        "o formato\\ndo endereço para ser interpretado pelo sistema de controle da \\\r\n",
        "cache.\")\r\n",
        "\r\n",
        "MP = 64*(2**20)\r\n",
        "lin = 2*(2**10)\r\n",
        "lrg = 16\r\n",
        "e_lin = int(math.log(lin,2))\r\n",
        "e_tag = int(math.log((MP/lrg)/lin,2))\r\n",
        "e_celula = int(math.log(lrg,2))\r\n",
        "\r\n",
        "\r\n",
        "print(\"\\nTag | Linha | Célula\")\r\n",
        "print(str(e_tag)+'  |  '+str(e_lin)+'   |   '+str(e_celula))"
      ],
      "execution_count": null,
      "outputs": [
        {
          "output_type": "stream",
          "text": [
            "Cálculo de formato de endereço para memórias cache com mapeamento direto \n",
            " \n",
            "Considere uma MP com 64MB de capacidade associada a uma memória cache\n",
            "que possui 2K linhas, cada uma com largura de 16 bytes. Determine o formato\n",
            "do endereço para ser interpretado pelo sistema de controle da cache.\n",
            "\n",
            "Tag | Linha | Célula\n",
            "11  |  11   |   4\n"
          ],
          "name": "stdout"
        }
      ]
    },
    {
      "cell_type": "code",
      "metadata": {
        "colab": {
          "base_uri": "https://localhost:8080/"
        },
        "id": "98e-fXSaZj_w",
        "outputId": "ae2b167d-9b67-4a2f-f74f-02d04aa3883f"
      },
      "source": [
        "#Exemplo 5.4 - Método Direto\r\n",
        "\r\n",
        "print(\"Seja uma MP constituída de blocos com largura de 32 bytes, associada\\n\\\r\n",
        "a uma cache com 128KB. Em dado instante o processador realiza um acesso,\\n\\\r\n",
        "colocando o seguinte endereço (expresso em algarismos hexadecimais): 3FC92B6.\\n\\\r\n",
        "Determine qual deverá ser o valor binário da linha que será localizada\\npelo \\\r\n",
        "sistema de controle da cache.\")\r\n",
        "\r\n",
        "h = '3FC92B6'\r\n",
        "h=(bin(int(h, 16))[2:]).zfill(len(h)*4)\r\n",
        "\r\n",
        "def strFormater():  \r\n",
        "  for j in h:\r\n",
        "    print(j,end='')\r\n",
        "  \r\n",
        "print('\\n3FC92B6 em binário:')\r\n",
        "strFormater()\r\n",
        "print(' =',len(str(h)), 'bits')\r\n",
        "\r\n",
        "capCache = 128*(2**10)\r\n",
        "lrg = 32\r\n",
        "\r\n",
        "import math\r\n",
        "lrgEndCelula = math.log(lrg,2)\r\n",
        "lrgEndLinha = math.log((capCache/lrg),2)\r\n",
        "lrgEndTag = len(h)-lrgEndCelula-lrgEndLinha\r\n",
        "\r\n",
        "print(\"\\n                  Estrutura     \")\r\n",
        "print(\"    Tag      |      Linha      |  Célula\")\r\n",
        "print(str(h[:int(lrgEndTag)])+'  |  '+str(h[int(lrgEndTag):int(lrgEndTag+lrgEndLinha)])+\\\r\n",
        "      '   |   '+str(h[int(lrgEndLinha+lrgEndTag):len(h)+1]))\r\n",
        "\r\n",
        "print('\\nO valor binário da linha é: '+str(h[int(lrgEndTag):int(lrgEndTag+lrgEndLinha)]))"
      ],
      "execution_count": null,
      "outputs": [
        {
          "output_type": "stream",
          "text": [
            "Seja uma MP constituída de blocos com largura de 32 bytes, associada\n",
            "a uma cache com 128KB. Em dado instante o processador realiza um acesso,\n",
            "colocando o seguinte endereço (expresso em algarismos hexadecimais): 3FC92B6.\n",
            "Determine qual deverá ser o valor binário da linha que será localizada\n",
            "pelo sistema de controle da cache.\n",
            "\n",
            "3FC92B6 em binário:\n",
            "0011111111001001001010110110 = 28 bits\n",
            "\n",
            "                  Estrutura     \n",
            "    Tag      |      Linha      |  Célula\n",
            "00111111110  |  010010010101   |   10110\n",
            "\n",
            "O valor binário da linha é: 010010010101\n"
          ],
          "name": "stdout"
        }
      ]
    },
    {
      "cell_type": "code",
      "metadata": {
        "colab": {
          "base_uri": "https://localhost:8080/"
        },
        "id": "45zANwDrcost",
        "outputId": "641c520e-1428-4b3f-ac6f-e50da04d54ed"
      },
      "source": [
        "#Exemplo 5.5 - Método Associativo Completo\r\n",
        "\r\n",
        "print(\"Cálculo da quantidade de bits necessários \\\r\n",
        "para uma determinada memória cache:\",'\\n', \"\\nConsidere um sistema de \\\r\n",
        "computação com uma memória cache de 32KB de capacidade,\\nconstituída de \\\r\n",
        "linhas com 8 bytes de largura. A MP possui uma capacidade de 16MB.\"),\r\n",
        "\r\n",
        "cap = 32*(2**10)\r\n",
        "lrg = 8\r\n",
        "lin = cap/lrg\r\n",
        "MP = 16*(2**20)\r\n",
        "\r\n",
        "import math\r\n",
        "T_dados=cap*8\r\n",
        "T_blocos=lin*math.log(MP/lrg,2)\r\n",
        "print('\\nQuantidade de bits =',int(T_dados+T_blocos),'bits')"
      ],
      "execution_count": null,
      "outputs": [
        {
          "output_type": "stream",
          "text": [
            "Cálculo da quantidade de bits necessários para uma determinada memória cache: \n",
            " \n",
            "Considere um sistema de computação com uma memória cache de 32KB de capacidade,\n",
            "constituída de linhas com 8 bytes de largura. A MP possui uma capacidade de 16MB.\n",
            "\n",
            "Quantidade de bits = 348160 bits\n"
          ],
          "name": "stdout"
        }
      ]
    },
    {
      "cell_type": "code",
      "metadata": {
        "colab": {
          "base_uri": "https://localhost:8080/"
        },
        "id": "_AT-cA_f0Lwb",
        "outputId": "23ac26f6-5a32-4270-b772-3c1c7bb34082"
      },
      "source": [
        "#Exemplo 5.6 - Método Associativo Completo\r\n",
        "\r\n",
        "print(\"Cálculo de formato de endereço para memórias cache com mapeamento \\\r\n",
        "direto\",'\\n', \"\\nConsidere uma MP com 64MB de capacidade associada a uma \\\r\n",
        "memória cache\\nque possui 2K linhas, cada uma com largura de 16 bytes. Determine \\\r\n",
        "o formato\\ndo endereço para ser interpretado pelo sistema de controle da \\\r\n",
        "cache.\")\r\n",
        "\r\n",
        "import math\r\n",
        "lrg = 16\r\n",
        "MP = 64*(2**20)\r\n",
        "e_bloco = int(math.log(MP/lrg,2))\r\n",
        "e_celula = int(math.log(lrg,2))\r\n",
        "\r\n",
        "print(\"\\nBloco | Célula\")\r\n",
        "print(' ' +str(e_bloco)+'   |   '+str(e_celula))"
      ],
      "execution_count": null,
      "outputs": [
        {
          "output_type": "stream",
          "text": [
            "Cálculo de formato de endereço para memórias cache com mapeamento direto \n",
            " \n",
            "Considere uma MP com 64MB de capacidade associada a uma memória cache\n",
            "que possui 2K linhas, cada uma com largura de 16 bytes. Determine o formato\n",
            "do endereço para ser interpretado pelo sistema de controle da cache.\n",
            "\n",
            "Bloco | Célula\n",
            " 22   |   4\n"
          ],
          "name": "stdout"
        }
      ]
    },
    {
      "cell_type": "code",
      "metadata": {
        "colab": {
          "base_uri": "https://localhost:8080/"
        },
        "id": "K4dHrDKY3cIh",
        "outputId": "fa61d66e-1378-4b49-8e7a-b404cd1d9394"
      },
      "source": [
        "#Exemplo 5.7 - Método Associativo Completo\r\n",
        "\r\n",
        "print(\"Seja uma MP constituída de blocos com largura de 32 bytes, associada\\n\\\r\n",
        "a uma cache com 64KB. Em dado instante o processador realiza um acesso,\\n\\\r\n",
        "colocando o seguinte endereço (expresso em algarismos hexadecimais): 3FC92B6.\\n\\\r\n",
        "Determine qual deverá ser o valor binário do campo bloco que será localizado\\npelo \\\r\n",
        "sistema de controle da cache.\")\r\n",
        "\r\n",
        "h = '3FC92B6'\r\n",
        "h=(bin(int(h, 16))[2:]).zfill(len(h)*4)\r\n",
        "\r\n",
        "def strFormater():  \r\n",
        "  for j in h:\r\n",
        "    print(j,end='')\r\n",
        "  \r\n",
        "print('\\n3FC92B6 em binário:')\r\n",
        "strFormater()\r\n",
        "print(' =',len(str(h)), 'bits')\r\n",
        "\r\n",
        "lrg = 32\r\n",
        "\r\n",
        "import math\r\n",
        "lrgEndBloco = math.log((2**len(h))/lrg,2)\r\n",
        "lrgEndCelula = math.log((lrg),2)\r\n",
        "\r\n",
        "print(\"\\n                     Estrutura     \")\r\n",
        "print(\"         Bloco           |     Célula\")\r\n",
        "print(str(h[0:int(lrgEndBloco)])+'  |     '+str(h[int(lrgEndBloco):int(lrgEndBloco+lrgEndCelula)]))\r\n",
        "\r\n",
        "print('\\nO endereço de bloco desejado é: '+str(h[:int(lrgEndBloco)]))"
      ],
      "execution_count": null,
      "outputs": [
        {
          "output_type": "stream",
          "text": [
            "Seja uma MP constituída de blocos com largura de 32 bytes, associada\n",
            "a uma cache com 64KB. Em dado instante o processador realiza um acesso,\n",
            "colocando o seguinte endereço (expresso em algarismos hexadecimais): 3FC92B6.\n",
            "Determine qual deverá ser o valor binário do campo bloco que será localizado\n",
            "pelo sistema de controle da cache.\n",
            "\n",
            "3FC92B6 em binário:\n",
            "0011111111001001001010110110 = 28 bits\n",
            "\n",
            "                     Estrutura     \n",
            "         Bloco           |     Célula\n",
            "00111111110010010010101  |     10110\n",
            "\n",
            "O endereço de bloco desejado é: 00111111110010010010101\n"
          ],
          "name": "stdout"
        }
      ]
    },
    {
      "cell_type": "code",
      "metadata": {
        "id": "9znG3uhP7JO3",
        "colab": {
          "base_uri": "https://localhost:8080/"
        },
        "outputId": "67db9fc5-e1dc-4e13-9580-aa4810db0eb4"
      },
      "source": [
        "#Exemplo 5.8 - Método Associativo por Conjunto\r\n",
        "\r\n",
        "print(\"Cálculo da quantidade de bits necessários para uma memória \\n\\\r\n",
        "cache, que funciona com mapeamento por conjunto de quatro.\\n\\nConsidere \\\r\n",
        "um sistema de computação com uma memória cache de 32KB\\nde capacidade, \\\r\n",
        "constituída de linhas com 8 bytes de largura e conjunto de 4. \\nA MP possui \\\r\n",
        "uma capacidade de 16MB.\")\r\n",
        "\r\n",
        "capCache=32*(2**10)\r\n",
        "lrg=8\r\n",
        "MP=16*(2**20)\r\n",
        "lin=capCache/lrg\r\n",
        "\r\n",
        "import math\r\n",
        "T_dados=32*(2**10)*8\r\n",
        "T_tag=lin*(math.log((MP/lrg)/(lin/4),2))\r\n",
        "print('\\n'+str(int(T_dados+T_tag))+' bits')\r\n"
      ],
      "execution_count": 3,
      "outputs": [
        {
          "output_type": "stream",
          "text": [
            "Cálculo da quantidade de bits necessários para uma memória \n",
            "cache, que funciona com mapeamento por conjunto de quatro.\n",
            "\n",
            "Considere um sistema de computação com uma memória cache de 32KB\n",
            "de capacidade, constituída de linhas com 8 bytes de largura e conjunto de 4. \n",
            "A MP possui uma capacidade de 16MB.\n",
            "\n",
            "307200 bits\n"
          ],
          "name": "stdout"
        }
      ]
    },
    {
      "cell_type": "code",
      "metadata": {
        "colab": {
          "base_uri": "https://localhost:8080/"
        },
        "id": "mtXQT2OADhkN",
        "outputId": "41a899da-ded8-4975-e35f-a02c1de8c3f4"
      },
      "source": [
        "#Exemplo 5.9 - Método Associativo por Conjunto\r\n",
        "\r\n",
        "print(\"Cálculo de formato de endereço para memórias cache com mapeamento \\\r\n",
        "associativo por conjunto\",'\\n', \"\\nConsidere uma MP com 64MB de capacidade \\\r\n",
        "associada a uma memória cache que funciona com\\nmapeamento associativo por \\\r\n",
        "conjunto de 4 e que possui 32KB, com linhas de largura de\\n16 bytes. \\\r\n",
        "Determine o formato do endereço para ser interpretado\\npelo sistema de \\\r\n",
        "controle da cache.\")\r\n",
        "\r\n",
        "MP=64*(2**20)\r\n",
        "capCache=32*(2**10)\r\n",
        "lrg=16\r\n",
        "lin=capCache/lrg\r\n",
        "\r\n",
        "import math\r\n",
        "endCelula=math.log(lrg,2)\r\n",
        "endConjunto=math.log((lin/4),2)\r\n",
        "endTag=math.log((MP/lrg)/(lin/4),2)\r\n",
        "\r\n",
        "print()\r\n",
        "print(\"Tag | Conjunto | Célula\")\r\n",
        "print(' '+str(int(endTag))+' |    '+str(int(endConjunto))+'     |   '+str(int(endCelula)))\r\n",
        "\r\n"
      ],
      "execution_count": null,
      "outputs": [
        {
          "output_type": "stream",
          "text": [
            "Cálculo de formato de endereço para memórias cache com mapeamento associativo por conjunto \n",
            " \n",
            "Considere uma MP com 64MB de capacidade associada a uma memória cache que funciona com\n",
            "mapeamento associativo por conjunto de 4 e que possui 32KB, com linhas de largura de\n",
            "16 bytes. Determine o formato do endereço para ser interpretado\n",
            "pelo sistema de controle da cache.\n",
            "\n",
            "Tag | Conjunto | Célula\n",
            " 13 |    9     |   4\n"
          ],
          "name": "stdout"
        }
      ]
    },
    {
      "cell_type": "code",
      "metadata": {
        "colab": {
          "base_uri": "https://localhost:8080/"
        },
        "id": "hPqoG4UoDjAr",
        "outputId": "3aa35dd2-22cd-44a7-d8c0-bddbc16c793d"
      },
      "source": [
        "#Exemplo 5.10 - Método Associativo por Conjunto\r\n",
        "\r\n",
        "print(\"Seja uma MP constituída de Conjuntos com largura de 32 bytes, associada\\n\\\r\n",
        "a uma cache com 64KB. Em dado instante o processador realiza um acesso,\\n\\\r\n",
        "colocando o seguinte endereço (expresso em algarismos hexadecimais): 3FC92B6.\\n\\\r\n",
        "Determine qual deverá ser o valor binário do conjunto que será localizado\\npelo \\\r\n",
        "sistema de controle da cache.\")\r\n",
        "\r\n",
        "h = '3FC92B6'\r\n",
        "h=(bin(int(h, 16))[2:]).zfill(len(h)*4)\r\n",
        "\r\n",
        "def strFormater():  \r\n",
        "  for j in h:\r\n",
        "    print(j,end='')\r\n",
        "  \r\n",
        "print('\\n3FC92B6 em binário:')\r\n",
        "strFormater()\r\n",
        "print(' =',len(str(h)), 'bits')\r\n",
        "\r\n",
        "capCache=64*(2**10)\r\n",
        "lrg = 32\r\n",
        "lin= capCache/lrg\r\n",
        "\r\n",
        "import math\r\n",
        "lrgEndConjunto = math.log(lin/4,2)\r\n",
        "lrgEndCelula = math.log((lrg),2)\r\n",
        "lrgEndTag = len(h)-lrgEndConjunto-lrgEndCelula\r\n",
        "\r\n",
        "print(\"\\n               Estrutura     \")\r\n",
        "print(\"     Tag       |   Conjunto   |  Célula\")\r\n",
        "print(str(h[:int(lrgEndTag)])+' |  '+str(h[int(lrgEndTag):int(lrgEndTag+lrgEndConjunto)]+'   |  '+str(h[int(lrgEndTag+lrgEndConjunto):])))\r\n",
        "\r\n",
        "print('\\nO endereço do conjunto desejado é: '+str(h[int(lrgEndTag):int(lrgEndTag+lrgEndConjunto)]))"
      ],
      "execution_count": null,
      "outputs": [
        {
          "output_type": "stream",
          "text": [
            "Seja uma MP constituída de Conjuntos com largura de 32 bytes, associada\n",
            "a uma cache com 64KB. Em dado instante o processador realiza um acesso,\n",
            "colocando o seguinte endereço (expresso em algarismos hexadecimais): 3FC92B6.\n",
            "Determine qual deverá ser o valor binário do conjunto que será localizado\n",
            "pelo sistema de controle da cache.\n",
            "\n",
            "3FC92B6 em binário:\n",
            "0011111111001001001010110110 = 28 bits\n",
            "\n",
            "               Estrutura     \n",
            "     Tag       |   Conjunto   |  Célula\n",
            "00111111110010 |  010010101   |  10110\n",
            "\n",
            "O endereço do conjunto desejado é: 010010101\n"
          ],
          "name": "stdout"
        }
      ]
    }
  ]
}